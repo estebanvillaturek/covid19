{
 "cells": [
  {
   "cell_type": "markdown",
   "metadata": {},
   "source": [
    "# COVID-19"
   ]
  },
  {
   "cell_type": "code",
   "execution_count": 1,
   "metadata": {},
   "outputs": [],
   "source": [
    "import pandas as pd\n",
    "from sqlalchemy import create_engine\n",
    "import os\n",
    "from joblib import Parallel, delayed\n",
    "import multiprocessing\n",
    "from datetime import datetime\n",
    "import matplotlib.pyplot as plt"
   ]
  },
  {
   "cell_type": "markdown",
   "metadata": {},
   "source": [
    "### Data Exploration"
   ]
  },
  {
   "cell_type": "code",
   "execution_count": null,
   "metadata": {},
   "outputs": [],
   "source": [
    "# set the connection to your database\n",
    "\n",
    "conn = '{program}://{user}:{password}@{ip}:{port}/{database}'.format(\n",
    "       program=\"postgresql\",\n",
    "       user=\"*****\",\n",
    "       password=\"*****\",\n",
    "       ip=\"127.0.0.1\",\n",
    "       port=\"5432\",\n",
    "       database=\"tweets\")\n",
    "engine = create_engine(conn)\n",
    "\n"
   ]
  },
  {
   "cell_type": "code",
   "execution_count": null,
   "metadata": {},
   "outputs": [],
   "source": [
    "#query the data you are interested in\n",
    "\n",
    "q = \"SELECT * FROM status WHERE meta_id IN (9)\"\n",
    "\n",
    "data = pd.read_sql_query(sql=q, con=engine, )\n",
    "\n",
    "data.head()"
   ]
  },
  {
   "cell_type": "code",
   "execution_count": null,
   "metadata": {},
   "outputs": [],
   "source": [
    "data.to_csv(\"~/Documents/twitter/Clean using Gephi/covid_data_raw.csv\")"
   ]
  },
  {
   "cell_type": "code",
   "execution_count": null,
   "metadata": {},
   "outputs": [],
   "source": [
    "data.shape"
   ]
  },
  {
   "cell_type": "code",
   "execution_count": null,
   "metadata": {},
   "outputs": [],
   "source": [
    "list(data.columns)"
   ]
  },
  {
   "cell_type": "code",
   "execution_count": null,
   "metadata": {},
   "outputs": [],
   "source": [
    "data.user_location.value_counts()"
   ]
  },
  {
   "cell_type": "code",
   "execution_count": null,
   "metadata": {},
   "outputs": [],
   "source": [
    "data.target_long_text"
   ]
  },
  {
   "cell_type": "code",
   "execution_count": null,
   "metadata": {},
   "outputs": [],
   "source": [
    "data.target_long_text.iloc[2]"
   ]
  },
  {
   "cell_type": "code",
   "execution_count": null,
   "metadata": {},
   "outputs": [],
   "source": [
    "data.lang.value_counts()"
   ]
  },
  {
   "cell_type": "code",
   "execution_count": null,
   "metadata": {},
   "outputs": [],
   "source": [
    "data.type"
   ]
  },
  {
   "cell_type": "markdown",
   "metadata": {},
   "source": [
    "### Graph"
   ]
  },
  {
   "cell_type": "code",
   "execution_count": null,
   "metadata": {},
   "outputs": [],
   "source": [
    "grafocovid = data[data.type== \"Retweet\"][[\"user_screen_name\", \"target_user_screen_name\"]]"
   ]
  },
  {
   "cell_type": "code",
   "execution_count": null,
   "metadata": {},
   "outputs": [],
   "source": [
    "grafocovid = grafocovid.rename(index = str, columns = {\"user_screen_name\" : \"source\", \"target_user_screen_name\" : \"target\"})"
   ]
  },
  {
   "cell_type": "code",
   "execution_count": null,
   "metadata": {},
   "outputs": [],
   "source": [
    "grafocovid.shape"
   ]
  },
  {
   "cell_type": "code",
   "execution_count": null,
   "metadata": {},
   "outputs": [],
   "source": [
    "grafocovid.to_csv(\"~/Documents/twitter/Clean using Gephi/datos_grafocovid.csv\", index = False)"
   ]
  },
  {
   "cell_type": "code",
   "execution_count": null,
   "metadata": {},
   "outputs": [],
   "source": [
    "dfmodul = pd.read_csv(\"~/Documents/twitter/Clean using Gephi/covid_modularity.csv\")"
   ]
  },
  {
   "cell_type": "code",
   "execution_count": null,
   "metadata": {},
   "outputs": [],
   "source": [
    "dfmodul.columns"
   ]
  },
  {
   "cell_type": "code",
   "execution_count": null,
   "metadata": {},
   "outputs": [],
   "source": [
    "dfmodul.Id.dtype"
   ]
  },
  {
   "cell_type": "code",
   "execution_count": null,
   "metadata": {},
   "outputs": [],
   "source": [
    "dfmodul.shape"
   ]
  },
  {
   "cell_type": "code",
   "execution_count": null,
   "metadata": {},
   "outputs": [],
   "source": [
    "data.id.dtype"
   ]
  },
  {
   "cell_type": "markdown",
   "metadata": {},
   "source": [
    "\n",
    "# Communities"
   ]
  },
  {
   "cell_type": "code",
   "execution_count": null,
   "metadata": {},
   "outputs": [],
   "source": [
    "rts = data[data.type == 'Retweet']\n",
    "rts.shape()"
   ]
  },
  {
   "cell_type": "code",
   "execution_count": null,
   "metadata": {},
   "outputs": [],
   "source": [
    "rts.shape"
   ]
  },
  {
   "cell_type": "code",
   "execution_count": null,
   "metadata": {},
   "outputs": [],
   "source": [
    "coms = pd.merge(dfmodul, rts, how = \"inner\", left_on = \"Id\", right_on = \"user_screen_name\")"
   ]
  },
  {
   "cell_type": "code",
   "execution_count": null,
   "metadata": {},
   "outputs": [],
   "source": [
    "coms.head(10)"
   ]
  },
  {
   "cell_type": "code",
   "execution_count": null,
   "metadata": {},
   "outputs": [],
   "source": [
    "coms.shape"
   ]
  },
  {
   "cell_type": "code",
   "execution_count": null,
   "metadata": {},
   "outputs": [],
   "source": [
    "coms = coms.dropna( axis = 1, how = \"all\")"
   ]
  },
  {
   "cell_type": "code",
   "execution_count": null,
   "metadata": {},
   "outputs": [],
   "source": [
    "coms.meta_id.isnull().value_counts()"
   ]
  },
  {
   "cell_type": "code",
   "execution_count": null,
   "metadata": {},
   "outputs": [],
   "source": [
    "coms.id.isnull().value_counts()"
   ]
  },
  {
   "cell_type": "code",
   "execution_count": null,
   "metadata": {},
   "outputs": [],
   "source": [
    "coms.modularity_class.isnull().value_counts()"
   ]
  },
  {
   "cell_type": "markdown",
   "metadata": {},
   "source": [
    "### Largest community"
   ]
  },
  {
   "cell_type": "code",
   "execution_count": null,
   "metadata": {},
   "outputs": [],
   "source": [
    "com1 = coms[coms.modularity_class == 235]"
   ]
  },
  {
   "cell_type": "code",
   "execution_count": null,
   "metadata": {},
   "outputs": [],
   "source": [
    "com1.dropna(axis =1, how = \"all\", inplace = True)"
   ]
  },
  {
   "cell_type": "code",
   "execution_count": null,
   "metadata": {},
   "outputs": [],
   "source": [
    "com1.shape"
   ]
  },
  {
   "cell_type": "code",
   "execution_count": null,
   "metadata": {},
   "outputs": [],
   "source": [
    "com1.dropna(axis = 0, subset = ['target_long_text'], inplace = True)"
   ]
  },
  {
   "cell_type": "code",
   "execution_count": null,
   "metadata": {},
   "outputs": [],
   "source": [
    "com1.text.iloc[1]"
   ]
  },
  {
   "cell_type": "code",
   "execution_count": null,
   "metadata": {},
   "outputs": [],
   "source": [
    "com1.target_long_text.iloc[1]"
   ]
  },
  {
   "cell_type": "code",
   "execution_count": null,
   "metadata": {},
   "outputs": [],
   "source": [
    "str(com1.target_long_text.iloc[0])"
   ]
  },
  {
   "cell_type": "code",
   "execution_count": null,
   "metadata": {},
   "outputs": [],
   "source": [
    "com1['target_long_text'] = com1['target_long_text'].astype(str)"
   ]
  },
  {
   "cell_type": "code",
   "execution_count": null,
   "metadata": {},
   "outputs": [],
   "source": [
    "com1.target_long_text.dtype"
   ]
  },
  {
   "cell_type": "code",
   "execution_count": null,
   "metadata": {},
   "outputs": [],
   "source": [
    "com1.target_long_text.notnull().sum()"
   ]
  },
  {
   "cell_type": "code",
   "execution_count": null,
   "metadata": {},
   "outputs": [],
   "source": [
    "list(com1.target_long_text)"
   ]
  },
  {
   "cell_type": "code",
   "execution_count": null,
   "metadata": {},
   "outputs": [],
   "source": [
    "com1.reset_index(inplace = True)"
   ]
  },
  {
   "cell_type": "code",
   "execution_count": null,
   "metadata": {},
   "outputs": [],
   "source": [
    "#com1.to_csv(\"~/Documents/twitter/Clean using Gephi/comunity1_tmp.csv\", index = False)"
   ]
  },
  {
   "cell_type": "code",
   "execution_count": 3,
   "metadata": {},
   "outputs": [],
   "source": [
    "#com1 = pd.read_csv(\"~/Documents/twitter/Clean using Gephi/comunity1_tmp.csv\")"
   ]
  },
  {
   "cell_type": "markdown",
   "metadata": {},
   "source": [
    "# VADER"
   ]
  },
  {
   "cell_type": "code",
   "execution_count": 5,
   "metadata": {},
   "outputs": [
    {
     "name": "stderr",
     "output_type": "stream",
     "text": [
      "[nltk_data] Downloading package vader_lexicon to\n",
      "[nltk_data]     /Users/estebanvillaturek/nltk_data...\n",
      "[nltk_data]   Package vader_lexicon is already up-to-date!\n"
     ]
    }
   ],
   "source": [
    "import nltk\n",
    "\n",
    "nltk.download('vader_lexicon')\n",
    "\n",
    "from nltk.sentiment.vader import SentimentIntensityAnalyzer as SIA\n"
   ]
  },
  {
   "cell_type": "code",
   "execution_count": 6,
   "metadata": {},
   "outputs": [],
   "source": [
    "com1text = list(com1.target_long_text[com1.target_long_text.notnull()== True])"
   ]
  },
  {
   "cell_type": "code",
   "execution_count": 16,
   "metadata": {},
   "outputs": [],
   "source": [
    "com1.dropna(axis = 0, subset = ['target_long_text'], inplace = True) "
   ]
  },
  {
   "cell_type": "code",
   "execution_count": 12,
   "metadata": {},
   "outputs": [
    {
     "data": {
      "text/plain": [
       "(0,\n",
       " 'A serious WH coronavirus update would include:\\n- number of tests conducted\\n- number of current cases\\n- number of new cases\\n- number of total deaths\\n- number of new deaths\\n- current mortality rate\\n- number of people recovered\\n- vaccine research update\\n- treatment update')"
      ]
     },
     "execution_count": 12,
     "metadata": {},
     "output_type": "execute_result"
    }
   ],
   "source": [
    "next(com1.target_long_text.items())"
   ]
  },
  {
   "cell_type": "code",
   "execution_count": 29,
   "metadata": {},
   "outputs": [],
   "source": [
    "analyzer = SIA()\n",
    "\n"
   ]
  },
  {
   "cell_type": "code",
   "execution_count": 70,
   "metadata": {},
   "outputs": [
    {
     "data": {
      "text/plain": [
       "Index(['text'], dtype='object')"
      ]
     },
     "execution_count": 70,
     "metadata": {},
     "output_type": "execute_result"
    }
   ],
   "source": [
    "first = com1[['target_long_text']]\n",
    "\n",
    "first = first.rename(columns={'target_long_text' : 'text'})\n",
    "\n",
    "first.columns"
   ]
  },
  {
   "cell_type": "code",
   "execution_count": 71,
   "metadata": {},
   "outputs": [
    {
     "data": {
      "text/plain": [
       "dtype('O')"
      ]
     },
     "execution_count": 71,
     "metadata": {},
     "output_type": "execute_result"
    }
   ],
   "source": [
    "first.text.dtype"
   ]
  },
  {
   "cell_type": "code",
   "execution_count": 72,
   "metadata": {},
   "outputs": [
    {
     "data": {
      "text/plain": [
       "dtype('O')"
      ]
     },
     "execution_count": 72,
     "metadata": {},
     "output_type": "execute_result"
    }
   ],
   "source": [
    "first.text.apply(str)\n",
    "\n",
    "first.text.dtype"
   ]
  },
  {
   "cell_type": "code",
   "execution_count": 78,
   "metadata": {},
   "outputs": [
    {
     "data": {
      "text/plain": [
       "'We are in the middle of a health care emergency. It’s time for Senators from both parties to come together &amp; do our jobs. We should pass the #FamiliesFirst Coronavirus Response Act tonight. We were sent here to act -- let’s do it. https://t.co/DUsza9Pjsh'"
      ]
     },
     "execution_count": 78,
     "metadata": {},
     "output_type": "execute_result"
    }
   ],
   "source": [
    "first.text[1]"
   ]
  },
  {
   "cell_type": "code",
   "execution_count": 120,
   "metadata": {},
   "outputs": [],
   "source": [
    "first['scores'] = ''"
   ]
  },
  {
   "cell_type": "code",
   "execution_count": 128,
   "metadata": {},
   "outputs": [],
   "source": [
    "first['scores'] = first.text.apply(lambda x: analyzer.polarity_scores(x))"
   ]
  },
  {
   "cell_type": "code",
   "execution_count": 129,
   "metadata": {},
   "outputs": [
    {
     "data": {
      "text/html": [
       "<div>\n",
       "<style scoped>\n",
       "    .dataframe tbody tr th:only-of-type {\n",
       "        vertical-align: middle;\n",
       "    }\n",
       "\n",
       "    .dataframe tbody tr th {\n",
       "        vertical-align: top;\n",
       "    }\n",
       "\n",
       "    .dataframe thead th {\n",
       "        text-align: right;\n",
       "    }\n",
       "</style>\n",
       "<table border=\"1\" class=\"dataframe\">\n",
       "  <thead>\n",
       "    <tr style=\"text-align: right;\">\n",
       "      <th></th>\n",
       "      <th>text</th>\n",
       "      <th>scores</th>\n",
       "    </tr>\n",
       "  </thead>\n",
       "  <tbody>\n",
       "    <tr>\n",
       "      <th>0</th>\n",
       "      <td>A serious WH coronavirus update would include:...</td>\n",
       "      <td>{'neg': 0.032, 'neu': 0.773, 'pos': 0.195, 'co...</td>\n",
       "    </tr>\n",
       "    <tr>\n",
       "      <th>1</th>\n",
       "      <td>We are in the middle of a health care emergenc...</td>\n",
       "      <td>{'neg': 0.054, 'neu': 0.825, 'pos': 0.122, 'co...</td>\n",
       "    </tr>\n",
       "    <tr>\n",
       "      <th>2</th>\n",
       "      <td>Jared Kushner is not qualified to be working i...</td>\n",
       "      <td>{'neg': 0.0, 'neu': 0.944, 'pos': 0.056, 'comp...</td>\n",
       "    </tr>\n",
       "    <tr>\n",
       "      <th>3</th>\n",
       "      <td>Bay Area scientists, we are in need of Bio-Rad...</td>\n",
       "      <td>{'neg': 0.0, 'neu': 0.954, 'pos': 0.046, 'comp...</td>\n",
       "    </tr>\n",
       "    <tr>\n",
       "      <th>4</th>\n",
       "      <td>Gizmodo: “Assholes Who Ridiculed Preparations ...</td>\n",
       "      <td>{'neg': 0.097, 'neu': 0.739, 'pos': 0.163, 'co...</td>\n",
       "    </tr>\n",
       "  </tbody>\n",
       "</table>\n",
       "</div>"
      ],
      "text/plain": [
       "                                                text  \\\n",
       "0  A serious WH coronavirus update would include:...   \n",
       "1  We are in the middle of a health care emergenc...   \n",
       "2  Jared Kushner is not qualified to be working i...   \n",
       "3  Bay Area scientists, we are in need of Bio-Rad...   \n",
       "4  Gizmodo: “Assholes Who Ridiculed Preparations ...   \n",
       "\n",
       "                                              scores  \n",
       "0  {'neg': 0.032, 'neu': 0.773, 'pos': 0.195, 'co...  \n",
       "1  {'neg': 0.054, 'neu': 0.825, 'pos': 0.122, 'co...  \n",
       "2  {'neg': 0.0, 'neu': 0.944, 'pos': 0.056, 'comp...  \n",
       "3  {'neg': 0.0, 'neu': 0.954, 'pos': 0.046, 'comp...  \n",
       "4  {'neg': 0.097, 'neu': 0.739, 'pos': 0.163, 'co...  "
      ]
     },
     "execution_count": 129,
     "metadata": {},
     "output_type": "execute_result"
    }
   ],
   "source": [
    "first.head()"
   ]
  },
  {
   "cell_type": "code",
   "execution_count": 132,
   "metadata": {},
   "outputs": [],
   "source": [
    "first[['negative', 'neutral', 'positive', 'compund']] = first.scores.apply(pd.Series)"
   ]
  },
  {
   "cell_type": "code",
   "execution_count": 134,
   "metadata": {},
   "outputs": [
    {
     "data": {
      "text/html": [
       "<div>\n",
       "<style scoped>\n",
       "    .dataframe tbody tr th:only-of-type {\n",
       "        vertical-align: middle;\n",
       "    }\n",
       "\n",
       "    .dataframe tbody tr th {\n",
       "        vertical-align: top;\n",
       "    }\n",
       "\n",
       "    .dataframe thead th {\n",
       "        text-align: right;\n",
       "    }\n",
       "</style>\n",
       "<table border=\"1\" class=\"dataframe\">\n",
       "  <thead>\n",
       "    <tr style=\"text-align: right;\">\n",
       "      <th></th>\n",
       "      <th>text</th>\n",
       "      <th>scores</th>\n",
       "      <th>negative</th>\n",
       "      <th>neutral</th>\n",
       "      <th>positive</th>\n",
       "      <th>compund</th>\n",
       "    </tr>\n",
       "  </thead>\n",
       "  <tbody>\n",
       "    <tr>\n",
       "      <th>0</th>\n",
       "      <td>A serious WH coronavirus update would include:...</td>\n",
       "      <td>{'neg': 0.032, 'neu': 0.773, 'pos': 0.195, 'co...</td>\n",
       "      <td>0.032</td>\n",
       "      <td>0.773</td>\n",
       "      <td>0.195</td>\n",
       "      <td>0.3612</td>\n",
       "    </tr>\n",
       "    <tr>\n",
       "      <th>1</th>\n",
       "      <td>We are in the middle of a health care emergenc...</td>\n",
       "      <td>{'neg': 0.054, 'neu': 0.825, 'pos': 0.122, 'co...</td>\n",
       "      <td>0.054</td>\n",
       "      <td>0.825</td>\n",
       "      <td>0.122</td>\n",
       "      <td>0.5106</td>\n",
       "    </tr>\n",
       "    <tr>\n",
       "      <th>2</th>\n",
       "      <td>Jared Kushner is not qualified to be working i...</td>\n",
       "      <td>{'neg': 0.0, 'neu': 0.944, 'pos': 0.056, 'comp...</td>\n",
       "      <td>0.000</td>\n",
       "      <td>0.944</td>\n",
       "      <td>0.056</td>\n",
       "      <td>0.3612</td>\n",
       "    </tr>\n",
       "    <tr>\n",
       "      <th>3</th>\n",
       "      <td>Bay Area scientists, we are in need of Bio-Rad...</td>\n",
       "      <td>{'neg': 0.0, 'neu': 0.954, 'pos': 0.046, 'comp...</td>\n",
       "      <td>0.000</td>\n",
       "      <td>0.954</td>\n",
       "      <td>0.046</td>\n",
       "      <td>0.3182</td>\n",
       "    </tr>\n",
       "    <tr>\n",
       "      <th>4</th>\n",
       "      <td>Gizmodo: “Assholes Who Ridiculed Preparations ...</td>\n",
       "      <td>{'neg': 0.097, 'neu': 0.739, 'pos': 0.163, 'co...</td>\n",
       "      <td>0.097</td>\n",
       "      <td>0.739</td>\n",
       "      <td>0.163</td>\n",
       "      <td>0.4019</td>\n",
       "    </tr>\n",
       "  </tbody>\n",
       "</table>\n",
       "</div>"
      ],
      "text/plain": [
       "                                                text  \\\n",
       "0  A serious WH coronavirus update would include:...   \n",
       "1  We are in the middle of a health care emergenc...   \n",
       "2  Jared Kushner is not qualified to be working i...   \n",
       "3  Bay Area scientists, we are in need of Bio-Rad...   \n",
       "4  Gizmodo: “Assholes Who Ridiculed Preparations ...   \n",
       "\n",
       "                                              scores  negative  neutral  \\\n",
       "0  {'neg': 0.032, 'neu': 0.773, 'pos': 0.195, 'co...     0.032    0.773   \n",
       "1  {'neg': 0.054, 'neu': 0.825, 'pos': 0.122, 'co...     0.054    0.825   \n",
       "2  {'neg': 0.0, 'neu': 0.944, 'pos': 0.056, 'comp...     0.000    0.944   \n",
       "3  {'neg': 0.0, 'neu': 0.954, 'pos': 0.046, 'comp...     0.000    0.954   \n",
       "4  {'neg': 0.097, 'neu': 0.739, 'pos': 0.163, 'co...     0.097    0.739   \n",
       "\n",
       "   positive  compund  \n",
       "0     0.195   0.3612  \n",
       "1     0.122   0.5106  \n",
       "2     0.056   0.3612  \n",
       "3     0.046   0.3182  \n",
       "4     0.163   0.4019  "
      ]
     },
     "execution_count": 134,
     "metadata": {},
     "output_type": "execute_result"
    }
   ],
   "source": [
    "first.head()"
   ]
  },
  {
   "cell_type": "code",
   "execution_count": 138,
   "metadata": {},
   "outputs": [],
   "source": [
    "first.drop('scores', axis = 1, inplace = True)"
   ]
  },
  {
   "cell_type": "code",
   "execution_count": 139,
   "metadata": {},
   "outputs": [
    {
     "data": {
      "text/html": [
       "<div>\n",
       "<style scoped>\n",
       "    .dataframe tbody tr th:only-of-type {\n",
       "        vertical-align: middle;\n",
       "    }\n",
       "\n",
       "    .dataframe tbody tr th {\n",
       "        vertical-align: top;\n",
       "    }\n",
       "\n",
       "    .dataframe thead th {\n",
       "        text-align: right;\n",
       "    }\n",
       "</style>\n",
       "<table border=\"1\" class=\"dataframe\">\n",
       "  <thead>\n",
       "    <tr style=\"text-align: right;\">\n",
       "      <th></th>\n",
       "      <th>text</th>\n",
       "      <th>negative</th>\n",
       "      <th>neutral</th>\n",
       "      <th>positive</th>\n",
       "      <th>compund</th>\n",
       "    </tr>\n",
       "  </thead>\n",
       "  <tbody>\n",
       "    <tr>\n",
       "      <th>0</th>\n",
       "      <td>A serious WH coronavirus update would include:...</td>\n",
       "      <td>0.032</td>\n",
       "      <td>0.773</td>\n",
       "      <td>0.195</td>\n",
       "      <td>0.3612</td>\n",
       "    </tr>\n",
       "    <tr>\n",
       "      <th>1</th>\n",
       "      <td>We are in the middle of a health care emergenc...</td>\n",
       "      <td>0.054</td>\n",
       "      <td>0.825</td>\n",
       "      <td>0.122</td>\n",
       "      <td>0.5106</td>\n",
       "    </tr>\n",
       "    <tr>\n",
       "      <th>2</th>\n",
       "      <td>Jared Kushner is not qualified to be working i...</td>\n",
       "      <td>0.000</td>\n",
       "      <td>0.944</td>\n",
       "      <td>0.056</td>\n",
       "      <td>0.3612</td>\n",
       "    </tr>\n",
       "    <tr>\n",
       "      <th>3</th>\n",
       "      <td>Bay Area scientists, we are in need of Bio-Rad...</td>\n",
       "      <td>0.000</td>\n",
       "      <td>0.954</td>\n",
       "      <td>0.046</td>\n",
       "      <td>0.3182</td>\n",
       "    </tr>\n",
       "    <tr>\n",
       "      <th>4</th>\n",
       "      <td>Gizmodo: “Assholes Who Ridiculed Preparations ...</td>\n",
       "      <td>0.097</td>\n",
       "      <td>0.739</td>\n",
       "      <td>0.163</td>\n",
       "      <td>0.4019</td>\n",
       "    </tr>\n",
       "  </tbody>\n",
       "</table>\n",
       "</div>"
      ],
      "text/plain": [
       "                                                text  negative  neutral  \\\n",
       "0  A serious WH coronavirus update would include:...     0.032    0.773   \n",
       "1  We are in the middle of a health care emergenc...     0.054    0.825   \n",
       "2  Jared Kushner is not qualified to be working i...     0.000    0.944   \n",
       "3  Bay Area scientists, we are in need of Bio-Rad...     0.000    0.954   \n",
       "4  Gizmodo: “Assholes Who Ridiculed Preparations ...     0.097    0.739   \n",
       "\n",
       "   positive  compund  \n",
       "0     0.195   0.3612  \n",
       "1     0.122   0.5106  \n",
       "2     0.056   0.3612  \n",
       "3     0.046   0.3182  \n",
       "4     0.163   0.4019  "
      ]
     },
     "execution_count": 139,
     "metadata": {},
     "output_type": "execute_result"
    }
   ],
   "source": [
    "first.head()"
   ]
  },
  {
   "cell_type": "markdown",
   "metadata": {},
   "source": [
    "# Latent Dirichlect Allocation - LDA"
   ]
  },
  {
   "cell_type": "code",
   "execution_count": 141,
   "metadata": {},
   "outputs": [],
   "source": [
    "\n",
    "import gensim\n",
    "from gensim.utils import simple_preprocess\n",
    "from gensim.parsing.preprocessing import STOPWORDS\n",
    "from nltk.stem import WordNetLemmatizer, SnowballStemmer\n",
    "from nltk.stem.porter import *"
   ]
  },
  {
   "cell_type": "code",
   "execution_count": 142,
   "metadata": {},
   "outputs": [
    {
     "name": "stderr",
     "output_type": "stream",
     "text": [
      "[nltk_data] Downloading package wordnet to\n",
      "[nltk_data]     /Users/estebanvillaturek/nltk_data...\n",
      "[nltk_data]   Unzipping corpora/wordnet.zip.\n"
     ]
    },
    {
     "data": {
      "text/plain": [
       "True"
      ]
     },
     "execution_count": 142,
     "metadata": {},
     "output_type": "execute_result"
    }
   ],
   "source": [
    "nltk.download('wordnet')"
   ]
  },
  {
   "cell_type": "code",
   "execution_count": 387,
   "metadata": {},
   "outputs": [],
   "source": [
    "first['text'] = first.text.apply(lambda x: re.sub(r\"http\\S+\", \"\", str(x)))"
   ]
  },
  {
   "cell_type": "code",
   "execution_count": 143,
   "metadata": {},
   "outputs": [],
   "source": [
    "# Lemmatizer function\n",
    "\n",
    "def lemmatize(text):\n",
    "    \"\"\"\n",
    "    Returns lemmatized text input.\n",
    "    \"\"\"\n",
    "    return stemmer.stem(WordNetLemmatizer().lemmatize(text, pos = 'v'))"
   ]
  },
  {
   "cell_type": "code",
   "execution_count": 145,
   "metadata": {},
   "outputs": [],
   "source": [
    "# preprocessing function\n",
    "\n",
    "def preprocess(text):\n",
    "    preprocessed = []\n",
    "    for token in gensim.utils.simple_preprocess(text):\n",
    "        if token not in gensim.parsing.preprocessing.STOPWORDS:\n",
    "            preprocessed.append(lemmatize(token))\n",
    "    return preprocessed\n"
   ]
  },
  {
   "cell_type": "code",
   "execution_count": 389,
   "metadata": {},
   "outputs": [],
   "source": [
    "# process the tweets\n",
    "\n",
    "stemmer = SnowballStemmer('english')\n",
    "\n",
    "first['processed_tweets'] = first.text.map(preprocess)"
   ]
  },
  {
   "cell_type": "code",
   "execution_count": 390,
   "metadata": {},
   "outputs": [
    {
     "name": "stdout",
     "output_type": "stream",
     "text": [
      "['middl', 'health', 'care', 'emerg', 'time', 'senat', 'parti', 'come', 'amp', 'job', 'pass', 'familiesfirst', 'coronavirus', 'respons', 'act', 'tonight', 'send', 'act', 'let']\n"
     ]
    }
   ],
   "source": [
    "print(first.processed_tweets[1])"
   ]
  },
  {
   "cell_type": "code",
   "execution_count": 388,
   "metadata": {},
   "outputs": [
    {
     "name": "stdout",
     "output_type": "stream",
     "text": [
      "We are in the middle of a health care emergency. It’s time for Senators from both parties to come together &amp; do our jobs. We should pass the #FamiliesFirst Coronavirus Response Act tonight. We were sent here to act -- let’s do it. \n"
     ]
    }
   ],
   "source": [
    "print(first.text[1])"
   ]
  },
  {
   "cell_type": "code",
   "execution_count": 391,
   "metadata": {},
   "outputs": [],
   "source": [
    "# create a generic dictionary of the words and frequecnies present in the corpus\n",
    "\n",
    "dictionary = gensim.corpora.Dictionary(first.processed_tweets)"
   ]
  },
  {
   "cell_type": "code",
   "execution_count": 392,
   "metadata": {},
   "outputs": [],
   "source": [
    "# remove the extreme terms, appearing either too many times, as well as too few, and keep the most frequent 100k terms using gensim\n",
    "\n",
    "dictionary.filter_extremes(no_below = 50, no_above = 0.5, keep_n = 100000)"
   ]
  },
  {
   "cell_type": "code",
   "execution_count": 393,
   "metadata": {},
   "outputs": [],
   "source": [
    "# create the corpus using gensim's doc2bow\n",
    "\n",
    "corpus = [dictionary.doc2bow(doc) for doc in first.processed_tweets]"
   ]
  },
  {
   "cell_type": "code",
   "execution_count": 394,
   "metadata": {},
   "outputs": [
    {
     "data": {
      "text/plain": [
       "[(0, 2),\n",
       " (1, 1),\n",
       " (2, 2),\n",
       " (3, 2),\n",
       " (4, 1),\n",
       " (5, 1),\n",
       " (6, 2),\n",
       " (7, 6),\n",
       " (8, 1),\n",
       " (9, 1),\n",
       " (10, 1),\n",
       " (11, 1),\n",
       " (12, 1),\n",
       " (13, 1),\n",
       " (14, 1),\n",
       " (15, 3),\n",
       " (16, 1),\n",
       " (17, 1)]"
      ]
     },
     "execution_count": 394,
     "metadata": {},
     "output_type": "execute_result"
    }
   ],
   "source": [
    "corpus[0]"
   ]
  },
  {
   "cell_type": "code",
   "execution_count": 395,
   "metadata": {},
   "outputs": [],
   "source": [
    "# repeat using TF-IDF\n",
    "\n",
    "from gensim import corpora, models\n",
    "\n",
    "tfidf = models.TfidfModel(corpus)"
   ]
  },
  {
   "cell_type": "code",
   "execution_count": 396,
   "metadata": {},
   "outputs": [],
   "source": [
    "tfidf_corpus = tfidf[corpus]"
   ]
  },
  {
   "cell_type": "code",
   "execution_count": 397,
   "metadata": {},
   "outputs": [
    {
     "data": {
      "text/plain": [
       "[(0, 0.16782115777488704),\n",
       " (1, 0.14766514209050077),\n",
       " (2, 0.26299174222470284),\n",
       " (3, 0.17679222417920876),\n",
       " (4, 0.11490289803721834),\n",
       " (5, 0.14556839847040248),\n",
       " (6, 0.16761770632408104),\n",
       " (7, 0.7308952273144536),\n",
       " (8, 0.0615803202410288),\n",
       " (9, 0.10375853037980863),\n",
       " (10, 0.14399579114845942),\n",
       " (11, 0.1352312951984055),\n",
       " (12, 0.057861942950912904),\n",
       " (13, 0.12676906526498768),\n",
       " (14, 0.13651406804136348),\n",
       " (15, 0.35218090946969816),\n",
       " (16, 0.11202616108975585),\n",
       " (17, 0.15715772328138788)]"
      ]
     },
     "execution_count": 397,
     "metadata": {},
     "output_type": "execute_result"
    }
   ],
   "source": [
    "tfidf_corpus[0]"
   ]
  },
  {
   "cell_type": "code",
   "execution_count": 398,
   "metadata": {},
   "outputs": [],
   "source": [
    "# run parallelized LDA using Tf-IDF\n",
    "\n",
    "%timeit\n",
    "ldamodel = gensim.models.LdaMulticore(tfidf_corpus, num_topics = 10, id2word = dictionary, passes = 10, workers = 4)"
   ]
  },
  {
   "cell_type": "code",
   "execution_count": 399,
   "metadata": {},
   "outputs": [
    {
     "name": "stdout",
     "output_type": "stream",
     "text": [
      "Topic: 0\n",
      "Word: 0.016*\"virus\" + 0.014*\"make\" + 0.014*\"chines\" + 0.014*\"racism\" + 0.013*\"call\" + 0.013*\"nation\" + 0.013*\"afraid\" + 0.013*\"troubl\" + 0.013*\"hate\" + 0.013*\"deep\"\n",
      "\n",
      "Topic: 1\n",
      "Word: 0.041*\"genius\" + 0.039*\"tell\" + 0.037*\"worri\" + 0.020*\"climatechang\" + 0.020*\"rememb\" + 0.020*\"amp\" + 0.019*\"social\" + 0.018*\"care\" + 0.018*\"deserv\" + 0.018*\"tri\"\n",
      "\n",
      "Topic: 2\n",
      "Word: 0.010*\"covid\" + 0.008*\"test\" + 0.008*\"agre\" + 0.007*\"think\" + 0.007*\"help\" + 0.006*\"kit\" + 0.006*\"virus\" + 0.006*\"visit\" + 0.006*\"asshol\" + 0.005*\"symptom\"\n",
      "\n",
      "Topic: 3\n",
      "Word: 0.006*\"peopl\" + 0.006*\"novel\" + 0.005*\"donat\" + 0.005*\"protect\" + 0.005*\"trump\" + 0.005*\"close\" + 0.005*\"school\" + 0.005*\"help\" + 0.005*\"covid\" + 0.005*\"countri\"\n",
      "\n",
      "Topic: 4\n",
      "Word: 0.016*\"health\" + 0.013*\"team\" + 0.012*\"countri\" + 0.011*\"trump\" + 0.011*\"pandem\" + 0.010*\"staff\" + 0.009*\"test\" + 0.009*\"talk\" + 0.008*\"ad\" + 0.008*\"mcgrath\"\n",
      "\n",
      "Topic: 5\n",
      "Word: 0.020*\"test\" + 0.018*\"rate\" + 0.017*\"ship\" + 0.017*\"berlin\" + 0.016*\"start\" + 0.016*\"treat\" + 0.016*\"creat\" + 0.015*\"lowest\" + 0.015*\"produc\" + 0.015*\"numer\"\n",
      "\n",
      "Topic: 6\n",
      "Word: 0.020*\"need\" + 0.018*\"mitch\" + 0.013*\"packag\" + 0.013*\"vote\" + 0.013*\"crisi\" + 0.012*\"mcconnel\" + 0.012*\"moscow\" + 0.010*\"test\" + 0.010*\"relief\" + 0.009*\"shame\"\n",
      "\n",
      "Topic: 7\n",
      "Word: 0.019*\"case\" + 0.018*\"mile\" + 0.016*\"new\" + 0.013*\"fight\" + 0.012*\"number\" + 0.010*\"dr\" + 0.010*\"midst\" + 0.010*\"run\" + 0.009*\"note\" + 0.009*\"fauci\"\n",
      "\n",
      "Topic: 8\n",
      "Word: 0.014*\"uk\" + 0.013*\"strategi\" + 0.008*\"death\" + 0.008*\"result\" + 0.007*\"gov\" + 0.007*\"day\" + 0.007*\"hundr\" + 0.007*\"realis\" + 0.007*\"base\" + 0.006*\"thousand\"\n",
      "\n",
      "Topic: 9\n",
      "Word: 0.017*\"covid\" + 0.009*\"virus\" + 0.008*\"trump\" + 0.007*\"health\" + 0.007*\"month\" + 0.006*\"call\" + 0.005*\"valv\" + 0.005*\"declar\" + 0.005*\"includ\" + 0.005*\"type\"\n",
      "\n"
     ]
    }
   ],
   "source": [
    "# show present topics\n",
    "\n",
    "for id, topic in ldamodel.print_topics(-1):\n",
    "    print('Topic: {}\\nWord: {}\\n'.format(id, topic))"
   ]
  },
  {
   "cell_type": "code",
   "execution_count": 400,
   "metadata": {},
   "outputs": [
    {
     "name": "stdout",
     "output_type": "stream",
     "text": [
      "\n",
      "Score: 0.7907378077507019\t \n",
      "Topic: 0.019*\"case\" + 0.018*\"mile\" + 0.016*\"new\" + 0.013*\"fight\" + 0.012*\"number\"\n",
      "\n",
      "Score: 0.023255078122019768\t \n",
      "Topic: 0.020*\"test\" + 0.018*\"rate\" + 0.017*\"ship\" + 0.017*\"berlin\" + 0.016*\"start\"\n",
      "\n",
      "Score: 0.023251419886946678\t \n",
      "Topic: 0.017*\"covid\" + 0.009*\"virus\" + 0.008*\"trump\" + 0.007*\"health\" + 0.007*\"month\"\n",
      "\n",
      "Score: 0.023251280188560486\t \n",
      "Topic: 0.010*\"covid\" + 0.008*\"test\" + 0.008*\"agre\" + 0.007*\"think\" + 0.007*\"help\"\n",
      "\n",
      "Score: 0.023251252248883247\t \n",
      "Topic: 0.014*\"uk\" + 0.013*\"strategi\" + 0.008*\"death\" + 0.008*\"result\" + 0.007*\"gov\"\n",
      "\n",
      "Score: 0.0232511218637228\t \n",
      "Topic: 0.016*\"virus\" + 0.014*\"make\" + 0.014*\"chines\" + 0.014*\"racism\" + 0.013*\"call\"\n",
      "\n",
      "Score: 0.023250965401530266\t \n",
      "Topic: 0.006*\"peopl\" + 0.006*\"novel\" + 0.005*\"donat\" + 0.005*\"protect\" + 0.005*\"trump\"\n",
      "\n",
      "Score: 0.023250723257660866\t \n",
      "Topic: 0.020*\"need\" + 0.018*\"mitch\" + 0.013*\"packag\" + 0.013*\"vote\" + 0.013*\"crisi\"\n",
      "\n",
      "Score: 0.023250678554177284\t \n",
      "Topic: 0.016*\"health\" + 0.013*\"team\" + 0.012*\"countri\" + 0.011*\"trump\" + 0.011*\"pandem\"\n",
      "\n",
      "Score: 0.023249752819538116\t \n",
      "Topic: 0.041*\"genius\" + 0.039*\"tell\" + 0.037*\"worri\" + 0.020*\"climatechang\" + 0.020*\"rememb\"\n"
     ]
    }
   ],
   "source": [
    "# Assessing classifications \n",
    "\n",
    "for index, score in sorted(ldamodel[tfidf_corpus[0]], key = lambda tup: -1*tup[1]):\n",
    "    print(\"\\nScore: {}\\t \\nTopic: {}\".format(score, ldamodel.print_topic(index, 5)))"
   ]
  },
  {
   "cell_type": "code",
   "execution_count": 401,
   "metadata": {},
   "outputs": [],
   "source": [
    "# assign to 'first' in a new column\n",
    "\n",
    "first['topics'] = ''\n",
    "\n",
    "first.topics = [max(p, key = lambda item: item[1]) for p in ldamodel[tfidf_corpus]]"
   ]
  },
  {
   "cell_type": "code",
   "execution_count": 402,
   "metadata": {},
   "outputs": [],
   "source": [
    "first.rename(columns = {'compund' : 'compound'}, inplace = True)"
   ]
  },
  {
   "cell_type": "code",
   "execution_count": 403,
   "metadata": {},
   "outputs": [
    {
     "data": {
      "text/html": [
       "<div>\n",
       "<style scoped>\n",
       "    .dataframe tbody tr th:only-of-type {\n",
       "        vertical-align: middle;\n",
       "    }\n",
       "\n",
       "    .dataframe tbody tr th {\n",
       "        vertical-align: top;\n",
       "    }\n",
       "\n",
       "    .dataframe thead th {\n",
       "        text-align: right;\n",
       "    }\n",
       "</style>\n",
       "<table border=\"1\" class=\"dataframe\">\n",
       "  <thead>\n",
       "    <tr style=\"text-align: right;\">\n",
       "      <th></th>\n",
       "      <th>text</th>\n",
       "      <th>negative</th>\n",
       "      <th>neutral</th>\n",
       "      <th>positive</th>\n",
       "      <th>compound</th>\n",
       "      <th>processed_tweets</th>\n",
       "      <th>topics</th>\n",
       "      <th>topic_id</th>\n",
       "      <th>topic_score</th>\n",
       "    </tr>\n",
       "  </thead>\n",
       "  <tbody>\n",
       "    <tr>\n",
       "      <th>0</th>\n",
       "      <td>A serious WH coronavirus update would include:...</td>\n",
       "      <td>0.032</td>\n",
       "      <td>0.773</td>\n",
       "      <td>0.195</td>\n",
       "      <td>0.3612</td>\n",
       "      <td>[wh, coronavirus, updat, includ, number, test,...</td>\n",
       "      <td>(7, 0.79073775)</td>\n",
       "      <td>8.0</td>\n",
       "      <td>0.790725</td>\n",
       "    </tr>\n",
       "    <tr>\n",
       "      <th>1</th>\n",
       "      <td>We are in the middle of a health care emergenc...</td>\n",
       "      <td>0.054</td>\n",
       "      <td>0.825</td>\n",
       "      <td>0.122</td>\n",
       "      <td>0.5106</td>\n",
       "      <td>[middl, health, care, emerg, time, senat, part...</td>\n",
       "      <td>(0, 0.81547374)</td>\n",
       "      <td>0.0</td>\n",
       "      <td>0.822864</td>\n",
       "    </tr>\n",
       "    <tr>\n",
       "      <th>2</th>\n",
       "      <td>Jared Kushner is not qualified to be working i...</td>\n",
       "      <td>0.000</td>\n",
       "      <td>0.944</td>\n",
       "      <td>0.056</td>\n",
       "      <td>0.3612</td>\n",
       "      <td>[jar, kushner, qualifi, work, white, hous, fac...</td>\n",
       "      <td>(7, 0.80265355)</td>\n",
       "      <td>5.0</td>\n",
       "      <td>0.813589</td>\n",
       "    </tr>\n",
       "    <tr>\n",
       "      <th>3</th>\n",
       "      <td>Bay Area scientists, we are in need of Bio-Rad...</td>\n",
       "      <td>0.000</td>\n",
       "      <td>0.954</td>\n",
       "      <td>0.046</td>\n",
       "      <td>0.3182</td>\n",
       "      <td>[bay, area, scientist, need, bio, rad, cfx, rt...</td>\n",
       "      <td>(6, 0.8396268)</td>\n",
       "      <td>4.0</td>\n",
       "      <td>0.839612</td>\n",
       "    </tr>\n",
       "    <tr>\n",
       "      <th>4</th>\n",
       "      <td>Gizmodo: “Assholes Who Ridiculed Preparations ...</td>\n",
       "      <td>0.097</td>\n",
       "      <td>0.739</td>\n",
       "      <td>0.163</td>\n",
       "      <td>0.4019</td>\n",
       "      <td>[gizmodo, asshol, ridicul, prepar, covid, pand...</td>\n",
       "      <td>(2, 0.49776408)</td>\n",
       "      <td>9.0</td>\n",
       "      <td>0.415576</td>\n",
       "    </tr>\n",
       "  </tbody>\n",
       "</table>\n",
       "</div>"
      ],
      "text/plain": [
       "                                                text  negative  neutral  \\\n",
       "0  A serious WH coronavirus update would include:...     0.032    0.773   \n",
       "1  We are in the middle of a health care emergenc...     0.054    0.825   \n",
       "2  Jared Kushner is not qualified to be working i...     0.000    0.944   \n",
       "3  Bay Area scientists, we are in need of Bio-Rad...     0.000    0.954   \n",
       "4  Gizmodo: “Assholes Who Ridiculed Preparations ...     0.097    0.739   \n",
       "\n",
       "   positive  compound                                   processed_tweets  \\\n",
       "0     0.195    0.3612  [wh, coronavirus, updat, includ, number, test,...   \n",
       "1     0.122    0.5106  [middl, health, care, emerg, time, senat, part...   \n",
       "2     0.056    0.3612  [jar, kushner, qualifi, work, white, hous, fac...   \n",
       "3     0.046    0.3182  [bay, area, scientist, need, bio, rad, cfx, rt...   \n",
       "4     0.163    0.4019  [gizmodo, asshol, ridicul, prepar, covid, pand...   \n",
       "\n",
       "            topics  topic_id  topic_score  \n",
       "0  (7, 0.79073775)       8.0     0.790725  \n",
       "1  (0, 0.81547374)       0.0     0.822864  \n",
       "2  (7, 0.80265355)       5.0     0.813589  \n",
       "3   (6, 0.8396268)       4.0     0.839612  \n",
       "4  (2, 0.49776408)       9.0     0.415576  "
      ]
     },
     "execution_count": 403,
     "metadata": {},
     "output_type": "execute_result"
    }
   ],
   "source": [
    "first.head()"
   ]
  },
  {
   "cell_type": "code",
   "execution_count": 404,
   "metadata": {},
   "outputs": [],
   "source": [
    "first[['topic_id', 'topic_score']] = first['topics'].apply(pd.Series)"
   ]
  },
  {
   "cell_type": "code",
   "execution_count": 405,
   "metadata": {},
   "outputs": [
    {
     "data": {
      "text/html": [
       "<div>\n",
       "<style scoped>\n",
       "    .dataframe tbody tr th:only-of-type {\n",
       "        vertical-align: middle;\n",
       "    }\n",
       "\n",
       "    .dataframe tbody tr th {\n",
       "        vertical-align: top;\n",
       "    }\n",
       "\n",
       "    .dataframe thead th {\n",
       "        text-align: right;\n",
       "    }\n",
       "</style>\n",
       "<table border=\"1\" class=\"dataframe\">\n",
       "  <thead>\n",
       "    <tr style=\"text-align: right;\">\n",
       "      <th></th>\n",
       "      <th>text</th>\n",
       "      <th>negative</th>\n",
       "      <th>neutral</th>\n",
       "      <th>positive</th>\n",
       "      <th>compound</th>\n",
       "      <th>processed_tweets</th>\n",
       "      <th>topics</th>\n",
       "      <th>topic_id</th>\n",
       "      <th>topic_score</th>\n",
       "    </tr>\n",
       "  </thead>\n",
       "  <tbody>\n",
       "    <tr>\n",
       "      <th>0</th>\n",
       "      <td>A serious WH coronavirus update would include:...</td>\n",
       "      <td>0.032</td>\n",
       "      <td>0.773</td>\n",
       "      <td>0.195</td>\n",
       "      <td>0.3612</td>\n",
       "      <td>[wh, coronavirus, updat, includ, number, test,...</td>\n",
       "      <td>(7, 0.79073775)</td>\n",
       "      <td>7.0</td>\n",
       "      <td>0.790738</td>\n",
       "    </tr>\n",
       "    <tr>\n",
       "      <th>1</th>\n",
       "      <td>We are in the middle of a health care emergenc...</td>\n",
       "      <td>0.054</td>\n",
       "      <td>0.825</td>\n",
       "      <td>0.122</td>\n",
       "      <td>0.5106</td>\n",
       "      <td>[middl, health, care, emerg, time, senat, part...</td>\n",
       "      <td>(0, 0.81547374)</td>\n",
       "      <td>0.0</td>\n",
       "      <td>0.815474</td>\n",
       "    </tr>\n",
       "    <tr>\n",
       "      <th>2</th>\n",
       "      <td>Jared Kushner is not qualified to be working i...</td>\n",
       "      <td>0.000</td>\n",
       "      <td>0.944</td>\n",
       "      <td>0.056</td>\n",
       "      <td>0.3612</td>\n",
       "      <td>[jar, kushner, qualifi, work, white, hous, fac...</td>\n",
       "      <td>(7, 0.80265355)</td>\n",
       "      <td>7.0</td>\n",
       "      <td>0.802654</td>\n",
       "    </tr>\n",
       "    <tr>\n",
       "      <th>3</th>\n",
       "      <td>Bay Area scientists, we are in need of Bio-Rad...</td>\n",
       "      <td>0.000</td>\n",
       "      <td>0.954</td>\n",
       "      <td>0.046</td>\n",
       "      <td>0.3182</td>\n",
       "      <td>[bay, area, scientist, need, bio, rad, cfx, rt...</td>\n",
       "      <td>(6, 0.8396268)</td>\n",
       "      <td>6.0</td>\n",
       "      <td>0.839627</td>\n",
       "    </tr>\n",
       "    <tr>\n",
       "      <th>4</th>\n",
       "      <td>Gizmodo: “Assholes Who Ridiculed Preparations ...</td>\n",
       "      <td>0.097</td>\n",
       "      <td>0.739</td>\n",
       "      <td>0.163</td>\n",
       "      <td>0.4019</td>\n",
       "      <td>[gizmodo, asshol, ridicul, prepar, covid, pand...</td>\n",
       "      <td>(2, 0.49776408)</td>\n",
       "      <td>2.0</td>\n",
       "      <td>0.497764</td>\n",
       "    </tr>\n",
       "  </tbody>\n",
       "</table>\n",
       "</div>"
      ],
      "text/plain": [
       "                                                text  negative  neutral  \\\n",
       "0  A serious WH coronavirus update would include:...     0.032    0.773   \n",
       "1  We are in the middle of a health care emergenc...     0.054    0.825   \n",
       "2  Jared Kushner is not qualified to be working i...     0.000    0.944   \n",
       "3  Bay Area scientists, we are in need of Bio-Rad...     0.000    0.954   \n",
       "4  Gizmodo: “Assholes Who Ridiculed Preparations ...     0.097    0.739   \n",
       "\n",
       "   positive  compound                                   processed_tweets  \\\n",
       "0     0.195    0.3612  [wh, coronavirus, updat, includ, number, test,...   \n",
       "1     0.122    0.5106  [middl, health, care, emerg, time, senat, part...   \n",
       "2     0.056    0.3612  [jar, kushner, qualifi, work, white, hous, fac...   \n",
       "3     0.046    0.3182  [bay, area, scientist, need, bio, rad, cfx, rt...   \n",
       "4     0.163    0.4019  [gizmodo, asshol, ridicul, prepar, covid, pand...   \n",
       "\n",
       "            topics  topic_id  topic_score  \n",
       "0  (7, 0.79073775)       7.0     0.790738  \n",
       "1  (0, 0.81547374)       0.0     0.815474  \n",
       "2  (7, 0.80265355)       7.0     0.802654  \n",
       "3   (6, 0.8396268)       6.0     0.839627  \n",
       "4  (2, 0.49776408)       2.0     0.497764  "
      ]
     },
     "execution_count": 405,
     "metadata": {},
     "output_type": "execute_result"
    }
   ],
   "source": [
    "first.head()"
   ]
  },
  {
   "cell_type": "code",
   "execution_count": 406,
   "metadata": {},
   "outputs": [
    {
     "data": {
      "text/plain": [
       "(72317, 9)"
      ]
     },
     "execution_count": 406,
     "metadata": {},
     "output_type": "execute_result"
    }
   ],
   "source": [
    "first.shape"
   ]
  },
  {
   "cell_type": "code",
   "execution_count": 426,
   "metadata": {},
   "outputs": [
    {
     "data": {
      "text/plain": [
       "text                We are in the middle of a health care emergenc...\n",
       "negative                                                        0.054\n",
       "neutral                                                         0.825\n",
       "positive                                                        0.122\n",
       "compound                                                       0.5106\n",
       "processed_tweets    [middl, health, care, emerg, time, senat, part...\n",
       "topics                                                (0, 0.81547374)\n",
       "topic_id                                                            0\n",
       "topic_score                                                  0.815474\n",
       "Name: 1, dtype: object"
      ]
     },
     "execution_count": 426,
     "metadata": {},
     "output_type": "execute_result"
    }
   ],
   "source": [
    "first.loc[1]"
   ]
  },
  {
   "cell_type": "markdown",
   "metadata": {},
   "source": [
    "# Representation of findings"
   ]
  },
  {
   "cell_type": "code",
   "execution_count": 407,
   "metadata": {},
   "outputs": [],
   "source": [
    "negative = first.loc[first['compound'] < -0.05]"
   ]
  },
  {
   "cell_type": "code",
   "execution_count": 408,
   "metadata": {},
   "outputs": [
    {
     "data": {
      "text/plain": [
       "(33271, 9)"
      ]
     },
     "execution_count": 408,
     "metadata": {},
     "output_type": "execute_result"
    }
   ],
   "source": [
    "negative.shape"
   ]
  },
  {
   "cell_type": "code",
   "execution_count": 409,
   "metadata": {},
   "outputs": [
    {
     "data": {
      "text/plain": [
       "<matplotlib.axes._subplots.AxesSubplot at 0x15353e310>"
      ]
     },
     "execution_count": 409,
     "metadata": {},
     "output_type": "execute_result"
    },
    {
     "data": {
      "image/png": "[encoded data removed]",
      "text/plain": [
       "<Figure size 432x288 with 1 Axes>"
      ]
     },
     "metadata": {
      "needs_background": "light"
     },
     "output_type": "display_data"
    }
   ],
   "source": [
    "round(negative.topic_id.value_counts()/len(negative), 2).plot(kind = \"bar\")"
   ]
  },
  {
   "cell_type": "code",
   "execution_count": 410,
   "metadata": {},
   "outputs": [
    {
     "name": "stdout",
     "output_type": "stream",
     "text": [
      "0.21673937141895294 0.8654438257217407\n"
     ]
    }
   ],
   "source": [
    "print(min(negative.topic_score), max(negative.topic_score))\n",
    "     "
   ]
  },
  {
   "cell_type": "markdown",
   "metadata": {},
   "source": [
    "## Positive topics"
   ]
  },
  {
   "cell_type": "code",
   "execution_count": 411,
   "metadata": {},
   "outputs": [],
   "source": [
    "positive = first.loc[first['compound'] > 0.05]"
   ]
  },
  {
   "cell_type": "code",
   "execution_count": 412,
   "metadata": {},
   "outputs": [
    {
     "data": {
      "text/plain": [
       "(29180, 9)"
      ]
     },
     "execution_count": 412,
     "metadata": {},
     "output_type": "execute_result"
    }
   ],
   "source": [
    "positive.shape"
   ]
  },
  {
   "cell_type": "code",
   "execution_count": 413,
   "metadata": {},
   "outputs": [
    {
     "data": {
      "text/plain": [
       "<matplotlib.axes._subplots.AxesSubplot at 0x1534b2d90>"
      ]
     },
     "execution_count": 413,
     "metadata": {},
     "output_type": "execute_result"
    },
    {
     "data": {
      "image/png": "[encoded data removed]",
      "text/plain": [
       "<Figure size 432x288 with 1 Axes>"
      ]
     },
     "metadata": {
      "needs_background": "light"
     },
     "output_type": "display_data"
    }
   ],
   "source": [
    "round(positive.topic_id.value_counts()/len(positive), 2).plot(kind = 'bar')"
   ]
  },
  {
   "cell_type": "code",
   "execution_count": 414,
   "metadata": {},
   "outputs": [
    {
     "name": "stdout",
     "output_type": "stream",
     "text": [
      "0.21296009421348572 0.8502357602119446\n"
     ]
    }
   ],
   "source": [
    "print(min(positive.topic_score), max(positive.topic_score))"
   ]
  },
  {
   "cell_type": "markdown",
   "metadata": {},
   "source": [
    "## Neutral topics"
   ]
  },
  {
   "cell_type": "code",
   "execution_count": 415,
   "metadata": {},
   "outputs": [],
   "source": [
    "neutral = first.loc[(first['compound'] > -0.05) & (first['compound'] < 0.05)]"
   ]
  },
  {
   "cell_type": "code",
   "execution_count": 416,
   "metadata": {},
   "outputs": [
    {
     "data": {
      "text/plain": [
       "(9848, 9)"
      ]
     },
     "execution_count": 416,
     "metadata": {},
     "output_type": "execute_result"
    }
   ],
   "source": [
    "neutral.shape"
   ]
  },
  {
   "cell_type": "code",
   "execution_count": 417,
   "metadata": {},
   "outputs": [
    {
     "data": {
      "text/plain": [
       "<matplotlib.axes._subplots.AxesSubplot at 0x15319ca50>"
      ]
     },
     "execution_count": 417,
     "metadata": {},
     "output_type": "execute_result"
    },
    {
     "data": {
      "image/png": "[encoded data removed]",
      "text/plain": [
       "<Figure size 432x288 with 1 Axes>"
      ]
     },
     "metadata": {
      "needs_background": "light"
     },
     "output_type": "display_data"
    }
   ],
   "source": [
    "round(neutral.topic_id.value_counts()/len(neutral), 2).plot(kind = 'bar')"
   ]
  },
  {
   "cell_type": "code",
   "execution_count": 418,
   "metadata": {},
   "outputs": [
    {
     "name": "stdout",
     "output_type": "stream",
     "text": [
      "0.10000000149011612 0.845391571521759\n"
     ]
    }
   ],
   "source": [
    "print(min(neutral.topic_score), max(neutral.topic_score))"
   ]
  },
  {
   "cell_type": "code",
   "execution_count": null,
   "metadata": {},
   "outputs": [],
   "source": []
  }
 ],
 "metadata": {
  "kernelspec": {
   "display_name": "viertualenv1",
   "language": "python",
   "name": "viertualenv1"
  },
  "language_info": {
   "codemirror_mode": {
    "name": "ipython",
    "version": 3
   },
   "file_extension": ".py",
   "mimetype": "text/x-python",
   "name": "python",
   "nbconvert_exporter": "python",
   "pygments_lexer": "ipython3",
   "version": "3.7.5"
  }
 },
 "nbformat": 4,
 "nbformat_minor": 2
}